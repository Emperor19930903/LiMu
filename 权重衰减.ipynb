{
 "cells": [
  {
   "cell_type": "code",
   "execution_count": 33,
   "id": "05b35907",
   "metadata": {},
   "outputs": [],
   "source": [
    "import numpy as np\n",
    "import torch\n",
    "from torch import nn\n",
    "from d2l import torch as d2l\n",
    "n_train, n_test, num_inputs, batch_size = 20, 100, 200, 5\n",
    "true_w, true_b = d2l.ones((num_inputs, 1)) * 0.01, 0.05   #0.01是权重,xi是一些随机的输入，噪声是均值为0，方差为0.01的正态分布\n",
    "train_data = d2l.synthetic_data(true_w, true_b, n_train) #生成linear function of our inputs\n",
    "train_iter = d2l.load_array(train_data, batch_size)\n",
    "test_data = d2l.synthetic_data(true_w, true_b, n_test)\n",
    "test_iter = d2l.load_array(test_data, batch_size, is_train=False)"
   ]
  },
  {
   "cell_type": "code",
   "execution_count": 34,
   "id": "54001a8c",
   "metadata": {},
   "outputs": [],
   "source": [
    "# 初始化模型参数\n",
    "def init_params():\n",
    "    w=torch.normal(0,1,size=(num_inputs,1),requires_grad=True)\n",
    "    b=torch.zeros(1,requires_grad=True)\n",
    "    return [w,b]\n",
    "# 定义L2范数惩罚\n",
    "def l2_penalty(w):\n",
    "    return torch.sum(w.pow(2))/2   # L2=1/2(w1**2+w2**2+...)\n",
    "# 定义L1范数惩罚\n",
    "def l1_penalty(w):\n",
    "    return torch.sum(torch.abs(w))   # L1=\\w1\\+\\w2\\+...\n",
    "# 定义训练代码\n",
    "def train(lambd):\n",
    "    w, b = init_params()\n",
    "    net, loss = lambda X: d2l.linreg(X, w, b), d2l.squared_loss\n",
    "    num_epochs, lr = 100, 0.003\n",
    "    animator = d2l.Animator(xlabel='epochs', ylabel='loss', yscale='log',\n",
    "                            xlim=[5, num_epochs], legend=['train', 'test'])\n",
    "    for epoch in range(num_epochs):\n",
    "        for X, y in train_iter:\n",
    "            # 增加了L2范数惩罚项，\n",
    "            # 广播机制使l2_penalty(w)成为一个长度为batch_size的向量\n",
    "            l = loss(net(X), y) + lambd * l1_penalty(w)\n",
    "            l.sum().backward()\n",
    "            d2l.sgd([w, b], lr, batch_size)\n",
    "        if (epoch + 1) % 5 == 0:\n",
    "            animator.add(epoch + 1, (d2l.evaluate_loss(net, train_iter, loss),\n",
    "                                     d2l.evaluate_loss(net, test_iter, loss)))\n",
    "    print('w的L2范数是：', torch.norm(w).item())"
   ]
  },
  {
   "cell_type": "code",
   "execution_count": 35,
   "id": "4be05459",
   "metadata": {},
   "outputs": [
    {
     "name": "stdout",
     "output_type": "stream",
     "text": [
      "w的L2范数是： 12.133252143859863\n"
     ]
    }
   ],
   "source": [
    "train(lambd=0)  # 用lambd = 0禁用权重衰减后运行这个代码。 注意，这里训练误差有了减少，但测试误差没有减少， 这意味着出现了严重的过拟合。"
   ]
  },
  {
   "cell_type": "code",
   "execution_count": 41,
   "id": "aa67edee",
   "metadata": {},
   "outputs": [
    {
     "name": "stdout",
     "output_type": "stream",
     "text": [
      "w的L2范数是： 0.04793548583984375\n"
     ]
    }
   ],
   "source": [
    "train(lambd=2)  # 下面，我们使用权重衰减来运行代码。 注意，在这里训练误差增大，但测试误差减小。 这正是我们期望从正则化中得到的效果。"
   ]
  },
  {
   "cell_type": "code",
   "execution_count": 31,
   "id": "8cdca202",
   "metadata": {},
   "outputs": [],
   "source": [
    "# 简洁实现\n",
    "def train_concise(wd):\n",
    "    net = nn.Sequential(nn.Linear(num_inputs, 1))\n",
    "    for param in net.parameters():\n",
    "        param.data.normal_()\n",
    "    loss = nn.MSELoss(reduction='none')\n",
    "    num_epochs, lr = 100, 0.003\n",
    "    # 偏置参数没有衰减\n",
    "    trainer = torch.optim.SGD([\n",
    "        {\"params\":net[0].weight,'weight_decay': wd},\n",
    "        {\"params\":net[0].bias}], lr=lr)\n",
    "    animator = d2l.Animator(xlabel='epochs', ylabel='loss', yscale='log',\n",
    "                            xlim=[5, num_epochs], legend=['train', 'test'])\n",
    "    for epoch in range(num_epochs):\n",
    "        for X, y in train_iter:\n",
    "            trainer.zero_grad()\n",
    "            l = loss(net(X), y)\n",
    "            l.mean().backward()\n",
    "            trainer.step()\n",
    "        if (epoch + 1) % 5 == 0:\n",
    "            animator.add(epoch + 1,\n",
    "                         (d2l.evaluate_loss(net, train_iter, loss),\n",
    "                          d2l.evaluate_loss(net, test_iter, loss)))\n",
    "    print('w的L2范数：', net[0].weight.norm().item())\n",
    "    "
   ]
  },
  {
   "cell_type": "code",
   "execution_count": 32,
   "id": "b4c8a4a8",
   "metadata": {},
   "outputs": [
    {
     "name": "stdout",
     "output_type": "stream",
     "text": [
      "w的L2范数： 12.067460060119629\n"
     ]
    }
   ],
   "source": [
    "train_concise(0)"
   ]
  },
  {
   "cell_type": "code",
   "execution_count": 24,
   "id": "fbd076de",
   "metadata": {},
   "outputs": [
    {
     "name": "stdout",
     "output_type": "stream",
     "text": [
      "w的L2范数： 0.08063127845525742\n"
     ]
    }
   ],
   "source": [
    "train_concise(7)"
   ]
  },
  {
   "cell_type": "markdown",
   "id": "bf34790b",
   "metadata": {},
   "source": [
    "1.实验中权重衰减的值一般设置多少比较好？ 一般为e-2  、e-3\n",
    "2.如果最优解的W就是比较大的数，那权重衰减是不是会有反作用？  不会，最优解是过拟合的W，，比较大，权重衰减会拉回正常的W\n",
    "3.训练过程中,nan和inf是怎么产生的以及怎么解决？    nan是W除以0,inf是权重太大  解决：合理初始化权重  学习率不要太大\n",
    "4.梯度消失是因为使用了sigmoid激活函数引起的吗？所以我们可以用Relu替换sigmoid解决梯度消失的问题？sigmoid容易造成梯度消失，Relu只会降低出现的概率\n",
    "5.权重是在每个epoch结束以后更新的吧？   是在每个batchsize或iteration更新的"
   ]
  }
 ],
 "metadata": {
  "kernelspec": {
   "display_name": "DL",
   "language": "python",
   "name": "dl"
  },
  "language_info": {
   "codemirror_mode": {
    "name": "ipython",
    "version": 3
   },
   "file_extension": ".py",
   "mimetype": "text/x-python",
   "name": "python",
   "nbconvert_exporter": "python",
   "pygments_lexer": "ipython3",
   "version": "3.8.0"
  }
 },
 "nbformat": 4,
 "nbformat_minor": 5
}
